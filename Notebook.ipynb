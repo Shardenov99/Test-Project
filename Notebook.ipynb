{
 "cells": [
  {
   "cell_type": "markdown",
   "id": "edd4e5a1",
   "metadata": {},
   "source": [
    "# Title \n"
   ]
  },
  {
   "cell_type": "markdown",
   "id": "def55cd9",
   "metadata": {},
   "source": []
  },
  {
   "cell_type": "code",
   "execution_count": null,
   "id": "02c1927e",
   "metadata": {},
   "outputs": [],
   "source": [
    "import pandas as pd"
   ]
  },
  {
   "cell_type": "code",
   "execution_count": null,
   "id": "f184cb75",
   "metadata": {},
   "outputs": [],
   "source": []
  }
 ],
 "metadata": {
  "language_info": {
   "name": "python"
  }
 },
 "nbformat": 4,
 "nbformat_minor": 5
}
